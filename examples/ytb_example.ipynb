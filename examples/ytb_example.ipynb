{
  "nbformat": 4,
  "nbformat_minor": 0,
  "metadata": {
    "colab": {
      "provenance": [],
      "collapsed_sections": [],
      "authorship_tag": "ABX9TyOgP7nutqZe/3Vvb6PEiCqp",
      "include_colab_link": true
    },
    "kernelspec": {
      "name": "python3",
      "display_name": "Python 3"
    },
    "language_info": {
      "name": "python"
    }
  },
  "cells": [
    {
      "cell_type": "markdown",
      "metadata": {
        "id": "view-in-github",
        "colab_type": "text"
      },
      "source": [
        "<a href=\"https://colab.research.google.com/github/leoxiang66/requests-tutorial/blob/main/examples/ytb_example.ipynb\" target=\"_parent\"><img src=\"https://colab.research.google.com/assets/colab-badge.svg\" alt=\"Open In Colab\"/></a>"
      ]
    },
    {
      "cell_type": "code",
      "source": [
        "!pip install git+https://github.com/leoxiang66/requests-tutorial.git"
      ],
      "metadata": {
        "colab": {
          "base_uri": "https://localhost:8080/"
        },
        "id": "yeqsWR9GFMI5",
        "outputId": "f9a33de7-ae37-465d-958a-c0450914eacf"
      },
      "execution_count": 179,
      "outputs": [
        {
          "output_type": "stream",
          "name": "stdout",
          "text": [
            "Looking in indexes: https://pypi.org/simple, https://us-python.pkg.dev/colab-wheels/public/simple/\n",
            "Collecting git+https://github.com/leoxiang66/requests-tutorial.git\n",
            "  Cloning https://github.com/leoxiang66/requests-tutorial.git to /tmp/pip-req-build-3omycyb_\n",
            "  Running command git clone -q https://github.com/leoxiang66/requests-tutorial.git /tmp/pip-req-build-3omycyb_\n",
            "Requirement already satisfied: lxml in /usr/local/lib/python3.7/dist-packages (from requests-tutorial==0.3.0) (4.9.1)\n",
            "Requirement already satisfied: requests in /usr/local/lib/python3.7/dist-packages (from requests-tutorial==0.3.0) (2.23.0)\n",
            "Requirement already satisfied: urllib3!=1.25.0,!=1.25.1,<1.26,>=1.21.1 in /usr/local/lib/python3.7/dist-packages (from requests->requests-tutorial==0.3.0) (1.24.3)\n",
            "Requirement already satisfied: chardet<4,>=3.0.2 in /usr/local/lib/python3.7/dist-packages (from requests->requests-tutorial==0.3.0) (3.0.4)\n",
            "Requirement already satisfied: certifi>=2017.4.17 in /usr/local/lib/python3.7/dist-packages (from requests->requests-tutorial==0.3.0) (2022.6.15)\n",
            "Requirement already satisfied: idna<3,>=2.5 in /usr/local/lib/python3.7/dist-packages (from requests->requests-tutorial==0.3.0) (2.10)\n",
            "Building wheels for collected packages: requests-tutorial\n",
            "  Building wheel for requests-tutorial (setup.py) ... \u001b[?25l\u001b[?25hdone\n",
            "  Created wheel for requests-tutorial: filename=requests_tutorial-0.3.0-py3-none-any.whl size=5743 sha256=4c6d7eb9a8b37695a6386c6c637f63294c1f10ad1a97c79a7fed83879e905324\n",
            "  Stored in directory: /tmp/pip-ephem-wheel-cache-if57pd1f/wheels/79/63/1e/816ac69d9c0efd055cfad1fae91401a83332680de98cf955f9\n",
            "Successfully built requests-tutorial\n",
            "Installing collected packages: requests-tutorial\n",
            "Successfully installed requests-tutorial-0.3.0\n"
          ]
        }
      ]
    },
    {
      "cell_type": "code",
      "source": [
        "from api_ import YTBInfoBot"
      ],
      "metadata": {
        "id": "G_d_KwAY9KsH"
      },
      "execution_count": 180,
      "outputs": []
    },
    {
      "cell_type": "code",
      "source": [
        "bot = YTBInfoBot([])"
      ],
      "metadata": {
        "id": "iqRXwphl9Lcp"
      },
      "execution_count": 181,
      "outputs": []
    },
    {
      "cell_type": "code",
      "source": [
        "bot.latest_video_title('https://www.youtube.com/c/TechWithTim/videos')"
      ],
      "metadata": {
        "colab": {
          "base_uri": "https://localhost:8080/",
          "height": 35
        },
        "id": "s78nMaIo9P7V",
        "outputId": "8958573c-0dc0-4669-ad29-aab6323fa401"
      },
      "execution_count": 182,
      "outputs": [
        {
          "output_type": "execute_result",
          "data": {
            "text/plain": [
              "'Learn Python With This ONE Project!'"
            ],
            "application/vnd.google.colaboratory.intrinsic+json": {
              "type": "string"
            }
          },
          "metadata": {},
          "execution_count": 182
        }
      ]
    },
    {
      "cell_type": "code",
      "source": [
        "bot.print_database()"
      ],
      "metadata": {
        "colab": {
          "base_uri": "https://localhost:8080/"
        },
        "id": "iHLiwL1P9jwL",
        "outputId": "7a4343ef-8e68-4023-b536-c85048122ccf"
      },
      "execution_count": 183,
      "outputs": [
        {
          "output_type": "stream",
          "name": "stdout",
          "text": [
            "{'https://www.youtube.com/c/TechWithTim/videos': 'Learn Python With This ONE '\n",
            "                                                 'Project!'}\n"
          ]
        }
      ]
    }
  ]
}